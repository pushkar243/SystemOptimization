{
 "cells": [
  {
   "cell_type": "code",
   "execution_count": 117,
   "id": "da619549",
   "metadata": {},
   "outputs": [],
   "source": [
    "import pandas as pd\n",
    "import numpy as np\n",
    "from sklearn.model_selection import train_test_split\n",
    "from sklearn.preprocessing import StandardScaler\n",
    "from sklearn.ensemble import RandomForestClassifier\n",
    "from sklearn.metrics import classification_report, accuracy_score\n",
    "from joblib import Parallel, delayed\n",
    "import multiprocessing\n",
    "import time"
   ]
  },
  {
   "cell_type": "code",
   "execution_count": 118,
   "id": "34eed06e",
   "metadata": {},
   "outputs": [],
   "source": [
    "# Load the CSV file into a DataFrame\n",
    "df = pd.read_csv(\"D:\\BITS M.TECH\\SEM 2\\ML Ops\\Assignments\\creditcard.csv\", nrows = 150000)\n",
    "\n",
    "# Separate features and target variable\n",
    "X = df.drop(['Class'], axis=1)\n",
    "y = df['Class']"
   ]
  },
  {
   "cell_type": "code",
   "execution_count": 119,
   "id": "50fe28c9",
   "metadata": {},
   "outputs": [
    {
     "data": {
      "text/plain": [
       "(150000, 31)"
      ]
     },
     "execution_count": 119,
     "metadata": {},
     "output_type": "execute_result"
    }
   ],
   "source": [
    "df.shape"
   ]
  },
  {
   "cell_type": "code",
   "execution_count": 120,
   "id": "098af893",
   "metadata": {},
   "outputs": [
    {
     "data": {
      "text/html": [
       "<div>\n",
       "<style scoped>\n",
       "    .dataframe tbody tr th:only-of-type {\n",
       "        vertical-align: middle;\n",
       "    }\n",
       "\n",
       "    .dataframe tbody tr th {\n",
       "        vertical-align: top;\n",
       "    }\n",
       "\n",
       "    .dataframe thead th {\n",
       "        text-align: right;\n",
       "    }\n",
       "</style>\n",
       "<table border=\"1\" class=\"dataframe\">\n",
       "  <thead>\n",
       "    <tr style=\"text-align: right;\">\n",
       "      <th></th>\n",
       "      <th>Time</th>\n",
       "      <th>V1</th>\n",
       "      <th>V2</th>\n",
       "      <th>V3</th>\n",
       "      <th>V4</th>\n",
       "      <th>V5</th>\n",
       "      <th>V6</th>\n",
       "      <th>V7</th>\n",
       "      <th>V8</th>\n",
       "      <th>V9</th>\n",
       "      <th>...</th>\n",
       "      <th>V21</th>\n",
       "      <th>V22</th>\n",
       "      <th>V23</th>\n",
       "      <th>V24</th>\n",
       "      <th>V25</th>\n",
       "      <th>V26</th>\n",
       "      <th>V27</th>\n",
       "      <th>V28</th>\n",
       "      <th>Amount</th>\n",
       "      <th>Class</th>\n",
       "    </tr>\n",
       "  </thead>\n",
       "  <tbody>\n",
       "    <tr>\n",
       "      <th>0</th>\n",
       "      <td>0</td>\n",
       "      <td>-1.359807</td>\n",
       "      <td>-0.072781</td>\n",
       "      <td>2.536347</td>\n",
       "      <td>1.378155</td>\n",
       "      <td>-0.338321</td>\n",
       "      <td>0.462388</td>\n",
       "      <td>0.239599</td>\n",
       "      <td>0.098698</td>\n",
       "      <td>0.363787</td>\n",
       "      <td>...</td>\n",
       "      <td>-0.018307</td>\n",
       "      <td>0.277838</td>\n",
       "      <td>-0.110474</td>\n",
       "      <td>0.066928</td>\n",
       "      <td>0.128539</td>\n",
       "      <td>-0.189115</td>\n",
       "      <td>0.133558</td>\n",
       "      <td>-0.021053</td>\n",
       "      <td>149.62</td>\n",
       "      <td>0</td>\n",
       "    </tr>\n",
       "    <tr>\n",
       "      <th>1</th>\n",
       "      <td>0</td>\n",
       "      <td>1.191857</td>\n",
       "      <td>0.266151</td>\n",
       "      <td>0.166480</td>\n",
       "      <td>0.448154</td>\n",
       "      <td>0.060018</td>\n",
       "      <td>-0.082361</td>\n",
       "      <td>-0.078803</td>\n",
       "      <td>0.085102</td>\n",
       "      <td>-0.255425</td>\n",
       "      <td>...</td>\n",
       "      <td>-0.225775</td>\n",
       "      <td>-0.638672</td>\n",
       "      <td>0.101288</td>\n",
       "      <td>-0.339846</td>\n",
       "      <td>0.167170</td>\n",
       "      <td>0.125895</td>\n",
       "      <td>-0.008983</td>\n",
       "      <td>0.014724</td>\n",
       "      <td>2.69</td>\n",
       "      <td>0</td>\n",
       "    </tr>\n",
       "    <tr>\n",
       "      <th>2</th>\n",
       "      <td>1</td>\n",
       "      <td>-1.358354</td>\n",
       "      <td>-1.340163</td>\n",
       "      <td>1.773209</td>\n",
       "      <td>0.379780</td>\n",
       "      <td>-0.503198</td>\n",
       "      <td>1.800499</td>\n",
       "      <td>0.791461</td>\n",
       "      <td>0.247676</td>\n",
       "      <td>-1.514654</td>\n",
       "      <td>...</td>\n",
       "      <td>0.247998</td>\n",
       "      <td>0.771679</td>\n",
       "      <td>0.909412</td>\n",
       "      <td>-0.689281</td>\n",
       "      <td>-0.327642</td>\n",
       "      <td>-0.139097</td>\n",
       "      <td>-0.055353</td>\n",
       "      <td>-0.059752</td>\n",
       "      <td>378.66</td>\n",
       "      <td>0</td>\n",
       "    </tr>\n",
       "    <tr>\n",
       "      <th>3</th>\n",
       "      <td>1</td>\n",
       "      <td>-0.966272</td>\n",
       "      <td>-0.185226</td>\n",
       "      <td>1.792993</td>\n",
       "      <td>-0.863291</td>\n",
       "      <td>-0.010309</td>\n",
       "      <td>1.247203</td>\n",
       "      <td>0.237609</td>\n",
       "      <td>0.377436</td>\n",
       "      <td>-1.387024</td>\n",
       "      <td>...</td>\n",
       "      <td>-0.108300</td>\n",
       "      <td>0.005274</td>\n",
       "      <td>-0.190321</td>\n",
       "      <td>-1.175575</td>\n",
       "      <td>0.647376</td>\n",
       "      <td>-0.221929</td>\n",
       "      <td>0.062723</td>\n",
       "      <td>0.061458</td>\n",
       "      <td>123.50</td>\n",
       "      <td>0</td>\n",
       "    </tr>\n",
       "    <tr>\n",
       "      <th>4</th>\n",
       "      <td>2</td>\n",
       "      <td>-1.158233</td>\n",
       "      <td>0.877737</td>\n",
       "      <td>1.548718</td>\n",
       "      <td>0.403034</td>\n",
       "      <td>-0.407193</td>\n",
       "      <td>0.095921</td>\n",
       "      <td>0.592941</td>\n",
       "      <td>-0.270533</td>\n",
       "      <td>0.817739</td>\n",
       "      <td>...</td>\n",
       "      <td>-0.009431</td>\n",
       "      <td>0.798278</td>\n",
       "      <td>-0.137458</td>\n",
       "      <td>0.141267</td>\n",
       "      <td>-0.206010</td>\n",
       "      <td>0.502292</td>\n",
       "      <td>0.219422</td>\n",
       "      <td>0.215153</td>\n",
       "      <td>69.99</td>\n",
       "      <td>0</td>\n",
       "    </tr>\n",
       "  </tbody>\n",
       "</table>\n",
       "<p>5 rows × 31 columns</p>\n",
       "</div>"
      ],
      "text/plain": [
       "   Time        V1        V2        V3        V4        V5        V6        V7  \\\n",
       "0     0 -1.359807 -0.072781  2.536347  1.378155 -0.338321  0.462388  0.239599   \n",
       "1     0  1.191857  0.266151  0.166480  0.448154  0.060018 -0.082361 -0.078803   \n",
       "2     1 -1.358354 -1.340163  1.773209  0.379780 -0.503198  1.800499  0.791461   \n",
       "3     1 -0.966272 -0.185226  1.792993 -0.863291 -0.010309  1.247203  0.237609   \n",
       "4     2 -1.158233  0.877737  1.548718  0.403034 -0.407193  0.095921  0.592941   \n",
       "\n",
       "         V8        V9  ...       V21       V22       V23       V24       V25  \\\n",
       "0  0.098698  0.363787  ... -0.018307  0.277838 -0.110474  0.066928  0.128539   \n",
       "1  0.085102 -0.255425  ... -0.225775 -0.638672  0.101288 -0.339846  0.167170   \n",
       "2  0.247676 -1.514654  ...  0.247998  0.771679  0.909412 -0.689281 -0.327642   \n",
       "3  0.377436 -1.387024  ... -0.108300  0.005274 -0.190321 -1.175575  0.647376   \n",
       "4 -0.270533  0.817739  ... -0.009431  0.798278 -0.137458  0.141267 -0.206010   \n",
       "\n",
       "        V26       V27       V28  Amount  Class  \n",
       "0 -0.189115  0.133558 -0.021053  149.62      0  \n",
       "1  0.125895 -0.008983  0.014724    2.69      0  \n",
       "2 -0.139097 -0.055353 -0.059752  378.66      0  \n",
       "3 -0.221929  0.062723  0.061458  123.50      0  \n",
       "4  0.502292  0.219422  0.215153   69.99      0  \n",
       "\n",
       "[5 rows x 31 columns]"
      ]
     },
     "execution_count": 120,
     "metadata": {},
     "output_type": "execute_result"
    }
   ],
   "source": [
    "df.head()"
   ]
  },
  {
   "cell_type": "code",
   "execution_count": 121,
   "id": "26f5cbdf",
   "metadata": {},
   "outputs": [
    {
     "name": "stdout",
     "output_type": "stream",
     "text": [
      "\n",
      "--- Part 1: Vanilla Section ---\n",
      "Vanilla Section Preprocessing Time: 0.08977031707763672\n"
     ]
    }
   ],
   "source": [
    "# Vanilla Section\n",
    "print(\"\\n--- Part 1: Vanilla Section ---\")\n",
    "\n",
    "# Split the data into training and testing sets\n",
    "X_train, X_test, y_train, y_test = train_test_split(X, y, test_size=0.2, random_state=42)\n",
    "\n",
    "start_time_vanilla = time.time()\n",
    "\n",
    "# Preprocessing\n",
    "scaler = StandardScaler()\n",
    "X_train_normalized = scaler.fit_transform(X_train)\n",
    "X_test_normalized = scaler.transform(X_test)\n",
    "\n",
    "vanilla_preprocessing_time = time.time() - start_time_vanilla\n",
    "print(\"Vanilla Section Preprocessing Time:\", vanilla_preprocessing_time)"
   ]
  },
  {
   "cell_type": "code",
   "execution_count": 122,
   "id": "c64afa04",
   "metadata": {},
   "outputs": [
    {
     "name": "stdout",
     "output_type": "stream",
     "text": [
      "Vanilla RF Training Time: 102.76230335235596\n"
     ]
    }
   ],
   "source": [
    "# Training vanilla Random Forest\n",
    "start_time_rf = time.time()\n",
    "\n",
    "model_rf = RandomForestClassifier(n_estimators=100, random_state=42)\n",
    "model_rf.fit(X_train_normalized, y_train)\n",
    "\n",
    "y_pred_rf = model_rf.predict(X_test_normalized)\n",
    "\n",
    "vanilla_rf_time_taken = time.time() - start_time_rf\n",
    "print(\"Vanilla RF Training Time:\", vanilla_rf_time_taken)"
   ]
  },
  {
   "cell_type": "code",
   "execution_count": 123,
   "id": "bf68ba14",
   "metadata": {},
   "outputs": [
    {
     "name": "stdout",
     "output_type": "stream",
     "text": [
      "\n",
      "Vanilla Random Forest Training Time: 102.76230335235596\n",
      "Vanilla Random Forest Accuracy: 0.9994\n",
      "Vanilla Random Forest Report:\n",
      "               precision    recall  f1-score   support\n",
      "\n",
      "           0       1.00      1.00      1.00     29933\n",
      "           1       0.98      0.75      0.85        67\n",
      "\n",
      "    accuracy                           1.00     30000\n",
      "   macro avg       0.99      0.87      0.92     30000\n",
      "weighted avg       1.00      1.00      1.00     30000\n",
      "\n"
     ]
    }
   ],
   "source": [
    "# Logging metrics for vanilla Random Forest\n",
    "vanilla_rf_accuracy = accuracy_score(y_test, y_pred_rf)\n",
    "vanilla_rf_report = classification_report(y_test, y_pred_rf)\n",
    "\n",
    "print(\"\\nVanilla Random Forest Training Time:\", vanilla_rf_time_taken)\n",
    "print(\"Vanilla Random Forest Accuracy:\", vanilla_rf_accuracy)\n",
    "print(\"Vanilla Random Forest Report:\\n\", vanilla_rf_report)"
   ]
  },
  {
   "cell_type": "markdown",
   "id": "518cbf93",
   "metadata": {},
   "source": [
    "### Optimisation - Scaling model size"
   ]
  },
  {
   "cell_type": "code",
   "execution_count": 124,
   "id": "e1d2d728",
   "metadata": {},
   "outputs": [
    {
     "name": "stdout",
     "output_type": "stream",
     "text": [
      "\n",
      "--- Part 2: Parallel Training Section ---\n"
     ]
    }
   ],
   "source": [
    "# Parallel Training Section\n",
    "print(\"\\n--- Part 2: Parallel Training Section ---\")\n",
    "start_time_rf = time.time()\n",
    "start_time_parallel = time.time()"
   ]
  },
  {
   "cell_type": "code",
   "execution_count": 125,
   "id": "4758c905",
   "metadata": {},
   "outputs": [],
   "source": [
    "# Define function to train Random Forest\n",
    "def train_rf(X_train, y_train):\n",
    "    model_rf = RandomForestClassifier(n_estimators=100, random_state=42)\n",
    "    model_rf.fit(X_train, y_train)\n",
    "    return model_rf"
   ]
  },
  {
   "cell_type": "code",
   "execution_count": 126,
   "id": "53d19e2a",
   "metadata": {},
   "outputs": [
    {
     "name": "stdout",
     "output_type": "stream",
     "text": [
      "Num cores 8\n"
     ]
    }
   ],
   "source": [
    "# Parallel training of Random Forest\n",
    "num_cores = multiprocessing.cpu_count()\n",
    "print(\"Num cores\",num_cores)\n",
    "models_rf = Parallel(n_jobs=num_cores)(delayed(train_rf)(X_train_normalized, y_train) for _ in range(num_cores))"
   ]
  },
  {
   "cell_type": "code",
   "execution_count": 127,
   "id": "d4ecefc3",
   "metadata": {},
   "outputs": [
    {
     "name": "stdout",
     "output_type": "stream",
     "text": [
      "Parallel RF Training Time: 185.56848883628845\n"
     ]
    }
   ],
   "source": [
    "parallel_time_taken = time.time() - start_time_rf\n",
    "print(\"Parallel RF Training Time:\", parallel_time_taken)"
   ]
  },
  {
   "cell_type": "code",
   "execution_count": 128,
   "id": "1992188e",
   "metadata": {},
   "outputs": [],
   "source": [
    "# Predict using all parallel trained models\n",
    "start_time_prediction = time.time()\n",
    "predictions_rf = [model.predict(X_test_normalized) for model in models_rf]\n",
    "prediction_time_taken = time.time() - start_time_prediction"
   ]
  },
  {
   "cell_type": "code",
   "execution_count": 129,
   "id": "53ca6cb4",
   "metadata": {},
   "outputs": [],
   "source": [
    "# Combine predictions and calculate metrics\n",
    "combined_predictions_rf = np.vstack(predictions_rf)\n",
    "final_predictions_rf = np.mean(combined_predictions_rf, axis=0)"
   ]
  },
  {
   "cell_type": "code",
   "execution_count": 130,
   "id": "8ebb27ee",
   "metadata": {},
   "outputs": [],
   "source": [
    "# Calculate metrics for combined predictions\n",
    "accuracy_rf = accuracy_score(y_test, final_predictions_rf)\n",
    "report_rf = classification_report(y_test, final_predictions_rf)"
   ]
  },
  {
   "cell_type": "code",
   "execution_count": 131,
   "id": "69991616",
   "metadata": {},
   "outputs": [
    {
     "name": "stdout",
     "output_type": "stream",
     "text": [
      "\n",
      "Parallel Random Forest Training Time: 185.56848883628845\n",
      "Parallel Random Forest Prediction Time: 1.5604314804077148\n",
      "Parallel Random Forest Accuracy: 0.9994\n",
      "Parallel Random Forest Report:\n",
      "               precision    recall  f1-score   support\n",
      "\n",
      "           0       1.00      1.00      1.00     29933\n",
      "           1       0.98      0.75      0.85        67\n",
      "\n",
      "    accuracy                           1.00     30000\n",
      "   macro avg       0.99      0.87      0.92     30000\n",
      "weighted avg       1.00      1.00      1.00     30000\n",
      "\n"
     ]
    }
   ],
   "source": [
    "print(\"\\nParallel Random Forest Training Time:\", parallel_time_taken)\n",
    "print(\"Parallel Random Forest Prediction Time:\", prediction_time_taken)\n",
    "print(\"Parallel Random Forest Accuracy:\", accuracy_rf)\n",
    "print(\"Parallel Random Forest Report:\\n\", report_rf)"
   ]
  },
  {
   "cell_type": "markdown",
   "id": "205ad4ee",
   "metadata": {},
   "source": [
    "### Optimisation - Scaling data size"
   ]
  },
  {
   "cell_type": "code",
   "execution_count": 106,
   "id": "c77643f6",
   "metadata": {
    "scrolled": true
   },
   "outputs": [],
   "source": [
    "from dask_ml.datasets import make_classification\n",
    "from dask_ml.model_selection import train_test_split\n",
    "from dask_ml.ensemble import BlockwiseVotingClassifier\n",
    "import sklearn.linear_model\n",
    "import time"
   ]
  },
  {
   "cell_type": "code",
   "execution_count": 107,
   "id": "1f911e51",
   "metadata": {},
   "outputs": [
    {
     "name": "stdout",
     "output_type": "stream",
     "text": [
      "\n",
      "--- Part 2: Parallel Training Section ---\n"
     ]
    }
   ],
   "source": [
    "# Parallel Training Section\n",
    "print(\"\\n--- Part 2: Parallel Training Section ---\")\n",
    "start_time_rf = time.time()\n",
    "start_time_parallel = time.time()"
   ]
  },
  {
   "cell_type": "code",
   "execution_count": 108,
   "id": "a7ab30ab",
   "metadata": {},
   "outputs": [],
   "source": [
    "# generate a large classification dataset\n",
    "X, y = make_classification(n_samples=1000, chunks=150)\n",
    "\n",
    "# split the dataset into train and test sets\n",
    "X_train, X_test, y_train, y_test = train_test_split(X, y)"
   ]
  },
  {
   "cell_type": "code",
   "execution_count": 109,
   "id": "da189bcb",
   "metadata": {},
   "outputs": [
    {
     "name": "stdout",
     "output_type": "stream",
     "text": [
      "0.66\n"
     ]
    }
   ],
   "source": [
    "# train a random forest classifier on the training set\n",
    "subestimator = sklearn.linear_model.RidgeClassifier(random_state=0)\n",
    "clf = BlockwiseVotingClassifier(subestimator, voting='hard', classes=[0, 1])\n",
    "clf.fit(X_train, y_train)\n",
    "\n",
    "# predict the labels of the test set\n",
    "y_pred = clf.predict(X_test)\n",
    "\n",
    "# evaluate the accuracy of the classifier\n",
    "accuracy = (y_pred == y_test).mean().compute()\n",
    "print(accuracy)"
   ]
  },
  {
   "cell_type": "code",
   "execution_count": 112,
   "id": "30bbf108",
   "metadata": {},
   "outputs": [
    {
     "name": "stdout",
     "output_type": "stream",
     "text": [
      "Parallel RF Training Time: 51.59974932670593\n"
     ]
    }
   ],
   "source": [
    "parallel_time_taken = time.time() - start_time_rf\n",
    "print(\"Parallel RF Training Time:\", parallel_time_taken)"
   ]
  }
 ],
 "metadata": {
  "kernelspec": {
   "display_name": "Python 3 (ipykernel)",
   "language": "python",
   "name": "python3"
  },
  "language_info": {
   "codemirror_mode": {
    "name": "ipython",
    "version": 3
   },
   "file_extension": ".py",
   "mimetype": "text/x-python",
   "name": "python",
   "nbconvert_exporter": "python",
   "pygments_lexer": "ipython3",
   "version": "3.11.5"
  }
 },
 "nbformat": 4,
 "nbformat_minor": 5
}
